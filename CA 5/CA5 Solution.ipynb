{
  "nbformat": 4,
  "nbformat_minor": 0,
  "metadata": {
    "colab": {
      "provenance": []
    },
    "kernelspec": {
      "name": "python3",
      "display_name": "Python 3"
    },
    "language_info": {
      "name": "python"
    }
  },
  "cells": [
    {
      "cell_type": "markdown",
      "source": [
        "# Step 1: Download and Extract the Dataset\n"
      ],
      "metadata": {
        "id": "_rdBQs5PJ0wc"
      }
    },
    {
      "cell_type": "code",
      "source": [
        "# Dowloading the EDF data\n",
        "import gdown\n",
        "import os\n",
        "import zipfile\n",
        "\n",
        "eeg_arch_url = 'https://drive.google.com/uc?id=1rynIhpIAQc4OzX4nCrrnxOXMsdLt7xWD'\n",
        "eeg_arch_file_name = 'EEGs.zip' # Assuming the file is now a ZIP file\n",
        "\n",
        "gdown.download(eeg_arch_url, eeg_arch_file_name, quiet=False)\n",
        "eeg_arch_path = os.path.join('/content', eeg_arch_file_name)\n",
        "\n",
        "# Unzip the file\n",
        "with zipfile.ZipFile(eeg_arch_path, 'r') as zip_ref:\n",
        "    zip_ref.extractall()\n",
        "!ls -l /content"
      ],
      "metadata": {
        "colab": {
          "base_uri": "https://localhost:8080/"
        },
        "id": "xEDvUphjLGN7",
        "outputId": "2ccfb071-71fa-4844-fc74-1e8f8f78f803"
      },
      "execution_count": 1,
      "outputs": [
        {
          "output_type": "stream",
          "name": "stderr",
          "text": [
            "Downloading...\n",
            "From (original): https://drive.google.com/uc?id=1rynIhpIAQc4OzX4nCrrnxOXMsdLt7xWD\n",
            "From (redirected): https://drive.google.com/uc?id=1rynIhpIAQc4OzX4nCrrnxOXMsdLt7xWD&confirm=t&uuid=7e792870-713e-49ca-8c7b-893f1f3c83b1\n",
            "To: /content/EEGs.zip\n",
            "100%|██████████| 162M/162M [00:02<00:00, 57.4MB/s]\n"
          ]
        },
        {
          "output_type": "stream",
          "name": "stdout",
          "text": [
            "total 157820\n",
            "-rw-r--r-- 1 root root 161595831 Aug 24  2024  EEGs.zip\n",
            "drwxr-xr-x 4 root root      4096 Jul  6 13:08 'Preprocessed Uc San Diego Dataset'\n",
            "drwxr-xr-x 1 root root      4096 Jul  1 21:04  sample_data\n"
          ]
        }
      ]
    },
    {
      "cell_type": "markdown",
      "source": [
        "# Step 2: Load EEG Signals from .mat Files"
      ],
      "metadata": {
        "id": "i5GrWeMeJ8vF"
      }
    },
    {
      "cell_type": "code",
      "source": [
        "import numpy as np\n",
        "from scipy.io import loadmat\n",
        "import glob\n",
        "\n",
        "def load_eeg_segments(base_path):\n",
        "    PD_segments = []\n",
        "    HC_segments = []\n",
        "\n",
        "    # Load PD segments\n",
        "    pd_path = os.path.join(base_path, 'PD')\n",
        "    pd_files = glob.glob(os.path.join(pd_path, \"*.mat\"))\n",
        "    for mat_file in pd_files:\n",
        "        try:\n",
        "            mat_data = loadmat(mat_file)\n",
        "            for key in mat_data.keys():\n",
        "                if not key.startswith('__'):\n",
        "                    segment = mat_data[key]\n",
        "                    # Keep only first 32 channels\n",
        "                    if segment.shape[0] >= 32:\n",
        "                        segment = segment[:32, :]\n",
        "                        PD_segments.append(segment)\n",
        "                        break\n",
        "        except Exception as e:\n",
        "            print(f\"Error loading {mat_file}: {e}\")\n",
        "\n",
        "    # Load HC segments\n",
        "    hc_path = os.path.join(base_path, 'HC')\n",
        "    hc_files = glob.glob(os.path.join(hc_path, \"*.mat\"))\n",
        "    for mat_file in hc_files:\n",
        "        try:\n",
        "            mat_data = loadmat(mat_file)\n",
        "            for key in mat_data.keys():\n",
        "                if not key.startswith('__'):\n",
        "                    segment = mat_data[key]\n",
        "                    # Keep only first 32 channels\n",
        "                    if segment.shape[0] >= 32:\n",
        "                        segment = segment[:32, :]\n",
        "                        HC_segments.append(segment)\n",
        "                        break\n",
        "        except Exception as e:\n",
        "            print(f\"Error loading {mat_file}: {e}\")\n",
        "\n",
        "    print(f\"Loaded {len(PD_segments)} PD segments and {len(HC_segments)} HC segments\")\n",
        "    return PD_segments, HC_segments\n"
      ],
      "metadata": {
        "id": "lJxmlx1WtmQo"
      },
      "execution_count": 2,
      "outputs": []
    },
    {
      "cell_type": "code",
      "source": [
        "# Set your path\n",
        "base_path = '/content/Preprocessed Uc San Diego Dataset'\n",
        "\n",
        "# Load the segments\n",
        "PD_segments, HC_segments = load_eeg_segments(base_path)\n",
        "\n",
        "# Now we have:\n",
        "# PD_segments[0], PD_segments[1], etc. - each is a 32 x timepoints array\n",
        "# HC_segments[0], HC_segments[1], etc. - each is a 32 x timepoints array"
      ],
      "metadata": {
        "colab": {
          "base_uri": "https://localhost:8080/"
        },
        "id": "jiyyQJywwASM",
        "outputId": "eb84fa6d-234c-4766-c621-caa67df9b616"
      },
      "execution_count": 4,
      "outputs": [
        {
          "output_type": "stream",
          "name": "stdout",
          "text": [
            "Loaded 500 PD segments and 500 HC segments\n"
          ]
        }
      ]
    },
    {
      "cell_type": "code",
      "source": [
        "print(np.array(HC_segments).shape, np.array(PD_segments).shape)"
      ],
      "metadata": {
        "colab": {
          "base_uri": "https://localhost:8080/"
        },
        "id": "_xselx-Exkwi",
        "outputId": "8874e8a9-a147-4681-af47-fc6979db57be"
      },
      "execution_count": 5,
      "outputs": [
        {
          "output_type": "stream",
          "name": "stdout",
          "text": [
            "(500, 32, 512) (500, 32, 512)\n"
          ]
        }
      ]
    },
    {
      "cell_type": "markdown",
      "source": [
        "# Step 3: Calculate Power Band Features"
      ],
      "metadata": {
        "id": "c1mo4P9HKBCz"
      }
    },
    {
      "cell_type": "code",
      "source": [
        "from scipy.signal import welch\n",
        "# Define frequency bands\n",
        "FREQ_BANDS = {\n",
        "    'Delta': (0.5, 4),\n",
        "    'Theta': (4, 8),\n",
        "    'Alpha': (8, 13),\n",
        "    'Beta': (13, 30),\n",
        "    'Gamma': (30, 100)\n",
        "}\n",
        "\n",
        "# function that extracts Band Powers\n",
        "def extract_band_powers(freqs, psd):\n",
        "    band_powers = []\n",
        "    for band, (low, high) in FREQ_BANDS.items():\n",
        "        idx_band = np.logical_and(freqs >= low, freqs <= high)\n",
        "        band_power = np.mean(psd[idx_band]) if np.any(idx_band) else 0\n",
        "        band_powers.append(band_power)\n",
        "    return band_powers  # Returns [Delta, Theta, Alpha, Beta, Gamma]\n",
        "\n",
        "# function that Processes a single EEG segment (32 channels x timepoints)\n",
        "def extract_features_from_segment(segment, fs=256):\n",
        "    features = []\n",
        "    for channel_data in segment:  # Iterate over 32 channels\n",
        "        freqs, psd = welch(channel_data, fs) # PSD Calculation using Welch\n",
        "        band_powers = extract_band_powers(freqs, psd)\n",
        "        features.extend(band_powers)\n",
        "    return np.array(features)  # Shape: (160,)\n",
        "# Returns [Delta[0], Theta[0], Alpha[0], Beta[0], Gamma[0] , ... , Delta[31], Theta[31], Alpha[31], Beta[31], Gamma[31]]\n",
        "\n",
        "# function that Processes all segments\n",
        "def extract_features_all_segments(segments, fs=256):\n",
        "    return np.array([extract_features_from_segment(seg, fs) for seg in segments])\n"
      ],
      "metadata": {
        "id": "1L_5BPbuU5YB"
      },
      "execution_count": 6,
      "outputs": []
    },
    {
      "cell_type": "code",
      "source": [
        "# feature extraction\n",
        "pd_features = extract_features_all_segments(PD_segments)\n",
        "hc_features = extract_features_all_segments(HC_segments)"
      ],
      "metadata": {
        "id": "hAl4ZgU2YY-b"
      },
      "execution_count": 7,
      "outputs": []
    },
    {
      "cell_type": "code",
      "source": [
        "print(f\"Shape of pd_features : {pd_features.shape}\")\n",
        "print(f\"Shape of hc_features : {hc_features.shape}\")"
      ],
      "metadata": {
        "colab": {
          "base_uri": "https://localhost:8080/"
        },
        "id": "2FfawsR7Ygme",
        "outputId": "c0b9253a-f623-47b8-a330-b5c4e5385772"
      },
      "execution_count": 8,
      "outputs": [
        {
          "output_type": "stream",
          "name": "stdout",
          "text": [
            "Shape of pd_features : (500, 160)\n",
            "Shape of hc_features : (500, 160)\n"
          ]
        }
      ]
    },
    {
      "cell_type": "markdown",
      "source": [
        "# Step 4: Prepare Labels and Combine Data"
      ],
      "metadata": {
        "id": "jhuDOsWEKEfP"
      }
    },
    {
      "cell_type": "code",
      "source": [
        "# Create label vectors\n",
        "hc_labels = np.zeros(len(hc_features), dtype=int)  # Healthy Controls = 0\n",
        "pd_labels = np.ones(len(pd_features), dtype=int)   # Parkinson's = 1\n",
        "\n",
        "# Concatenate features\n",
        "X = np.vstack((hc_features, pd_features))  # Shape: (1000, 160)\n",
        "\n",
        "# Step 3: Concatenate labels\n",
        "y = np.concatenate((hc_labels, pd_labels))  # Shape: (1000,)"
      ],
      "metadata": {
        "id": "PkhDKLcsgT_m"
      },
      "execution_count": 9,
      "outputs": []
    },
    {
      "cell_type": "code",
      "source": [
        "import pandas as pd\n",
        "\n",
        "num_channels = 32\n",
        "bands = ['Delta', 'Theta', 'Alpha', 'Beta', 'Gamma']\n",
        "\n",
        "# Generate column names like ch1_delta, ch1_theta, ..., ch32_gamma\n",
        "column_names = [f'ch{ch+1}_{band}' for ch in range(num_channels) for band in bands]\n",
        "\n",
        "# Create the DataFrame\n",
        "df = pd.DataFrame(X, columns=column_names)\n",
        "\n",
        "# Add the label column\n",
        "df['label'] = y\n",
        "\n",
        "# Now df is your full dataset\n",
        "print(df.head())\n",
        "print(f\"data frame shape: {df.shape}\")"
      ],
      "metadata": {
        "colab": {
          "base_uri": "https://localhost:8080/"
        },
        "id": "XW7oJanM7maS",
        "outputId": "c69cdbe3-214d-44ea-ca39-618bd758c592"
      },
      "execution_count": 10,
      "outputs": [
        {
          "output_type": "stream",
          "name": "stdout",
          "text": [
            "   ch1_Delta  ch1_Theta  ch1_Alpha  ch1_Beta  ch1_Gamma  ch2_Delta  ch2_Theta  \\\n",
            "0   0.277627   0.028714   0.003473  0.001313   0.000421   0.087771   0.006992   \n",
            "1   0.277627   0.028714   0.003473  0.001313   0.000421   0.087771   0.006992   \n",
            "2   0.078086   0.010805   0.002080  0.005148   0.001559   0.069093   0.011764   \n",
            "3   0.277627   0.028714   0.003473  0.001313   0.000421   0.087771   0.006992   \n",
            "4   0.389721   0.056307   0.009113  0.001040   0.000165   0.080794   0.012770   \n",
            "\n",
            "   ch2_Alpha  ch2_Beta  ch2_Gamma  ...  ch31_Theta  ch31_Alpha  ch31_Beta  \\\n",
            "0   0.002163  0.000355   0.000063  ...    0.001369    0.000592   0.000149   \n",
            "1   0.002163  0.000355   0.000063  ...    0.001369    0.000592   0.000149   \n",
            "2   0.002627  0.008731   0.003240  ...    0.003202    0.001375   0.000922   \n",
            "3   0.002163  0.000355   0.000063  ...    0.001369    0.000592   0.000149   \n",
            "4   0.002988  0.000289   0.000063  ...    0.003874    0.001492   0.000131   \n",
            "\n",
            "   ch31_Gamma  ch32_Delta  ch32_Theta  ch32_Alpha  ch32_Beta  ch32_Gamma  \\\n",
            "0    0.000026    0.004960    0.000871    0.000326   0.000184    0.000064   \n",
            "1    0.000026    0.004960    0.000871    0.000326   0.000184    0.000064   \n",
            "2    0.000101    0.011686    0.003113    0.001352   0.000512    0.000132   \n",
            "3    0.000026    0.004960    0.000871    0.000326   0.000184    0.000064   \n",
            "4    0.000031    0.001562    0.000922    0.000847   0.000160    0.000033   \n",
            "\n",
            "   label  \n",
            "0      0  \n",
            "1      0  \n",
            "2      0  \n",
            "3      0  \n",
            "4      0  \n",
            "\n",
            "[5 rows x 161 columns]\n",
            "data frame shape: (1000, 161)\n"
          ]
        }
      ]
    },
    {
      "cell_type": "markdown",
      "source": [
        "# Step 5 & 6: Train & Evaluate the Classifiers"
      ],
      "metadata": {
        "id": "FYpoMo06KKDB"
      }
    },
    {
      "cell_type": "code",
      "source": [
        "from sklearn.model_selection import train_test_split\n",
        "\n",
        "from sklearn.svm import SVC\n",
        "from sklearn.linear_model import LogisticRegression\n",
        "from sklearn.neighbors import KNeighborsClassifier\n",
        "from sklearn.tree import DecisionTreeClassifier\n",
        "from sklearn.ensemble import RandomForestClassifier\n",
        "\n",
        "from sklearn.metrics import accuracy_score, classification_report"
      ],
      "metadata": {
        "id": "giPgBDAhhpCi"
      },
      "execution_count": 11,
      "outputs": []
    },
    {
      "cell_type": "code",
      "source": [
        "# Step 1: Split data into training and test sets\n",
        "X_train, X_test, y_train, y_test = train_test_split(X, y, test_size=0.2, random_state=42)\n",
        "\n",
        "# Define all models\n",
        "models = {\n",
        "    \"SVM (Linear)\": SVC(kernel='rbf', random_state=42),\n",
        "    \"Logistic Regression\": LogisticRegression(max_iter=1000, penalty=None),\n",
        "    \"K-Nearest Neighbors\": KNeighborsClassifier(n_neighbors=5, weights='uniform'),\n",
        "    \"Decision Tree\": DecisionTreeClassifier(random_state=42),\n",
        "    \"Random Forest\": RandomForestClassifier(random_state=42),\n",
        "}\n",
        "\n",
        "# Container to store results\n",
        "results = []\n",
        "\n",
        "# Train, predict, evaluate\n",
        "for name, model in models.items():\n",
        "    model.fit(X_train, y_train)\n",
        "    y_pred = model.predict(X_test)\n",
        "\n",
        "    # Accuracy\n",
        "    acc = accuracy_score(y_test, y_pred)\n",
        "\n",
        "    # Classification Report (dictionary format)\n",
        "    report_dict = classification_report(y_test, y_pred, output_dict=True)\n",
        "\n",
        "    # Extract class 1 (PD) metrics\n",
        "    precision = report_dict[\"1\"][\"precision\"]\n",
        "    recall = report_dict[\"1\"][\"recall\"]\n",
        "    f1 = report_dict[\"1\"][\"f1-score\"]\n",
        "\n",
        "    # Append results\n",
        "    results.append({\n",
        "        \"Classifier\": name,\n",
        "        \"Accuracy\": acc,\n",
        "        \"Precision (PD)\": precision,\n",
        "        \"Recall (PD)\": recall,\n",
        "        \"F1-Score (PD)\": f1\n",
        "    })\n",
        "\n",
        "# Create summary table\n",
        "results_df = pd.DataFrame(results)\n",
        "print(\"\\n=== Classifier Performance Summary ===\")\n",
        "print(results_df.to_string(index=False))\n"
      ],
      "metadata": {
        "colab": {
          "base_uri": "https://localhost:8080/"
        },
        "id": "ONIfPH4aopFu",
        "outputId": "98eb63cc-b2fc-4cd9-944d-ac7c18126378"
      },
      "execution_count": 24,
      "outputs": [
        {
          "output_type": "stream",
          "name": "stdout",
          "text": [
            "\n",
            "=== Classifier Performance Summary ===\n",
            "         Classifier  Accuracy  Precision (PD)  Recall (PD)  F1-Score (PD)\n",
            "       SVM (Linear)       1.0             1.0          1.0            1.0\n",
            "Logistic Regression       1.0             1.0          1.0            1.0\n",
            "K-Nearest Neighbors       1.0             1.0          1.0            1.0\n",
            "      Decision Tree       1.0             1.0          1.0            1.0\n",
            "      Random Forest       1.0             1.0          1.0            1.0\n"
          ]
        }
      ]
    },
    {
      "cell_type": "markdown",
      "source": [
        "# Implement a Multi-Layer Perceptron (MLP) Classifier"
      ],
      "metadata": {
        "id": "be3I2jDmKQYt"
      }
    },
    {
      "cell_type": "code",
      "source": [
        "from sklearn.neural_network import MLPClassifier\n",
        "from sklearn.preprocessing import StandardScaler\n",
        "\n",
        "# Step 1: Scale the data (important for neural nets)\n",
        "scaler = StandardScaler()\n",
        "X_train_scaled = scaler.fit_transform(X_train)\n",
        "X_test_scaled = scaler.transform(X_test)\n",
        "\n",
        "# Step 2: Define a small MLP model\n",
        "\n",
        "mlp = MLPClassifier(hidden_layer_sizes=(3,), activation='relu', max_iter=205, learning_rate_init=0.001, random_state=1, early_stopping=False)\n",
        "\n",
        "# Step 3: Train the model\n",
        "mlp.fit(X_train_scaled, y_train)\n",
        "\n",
        "# Step 4: Predict on test data\n",
        "y_pred = mlp.predict(X_test_scaled)\n",
        "print(f\"Number of iterations recorded in loss_curve_: {len(mlp.loss_curve_)}\")\n",
        "# Step 5: Evaluate\n",
        "accuracy = accuracy_score(y_test, y_pred)\n",
        "report = classification_report(y_test, y_pred)\n",
        "\n",
        "precision = report_dict[\"1\"][\"precision\"]\n",
        "recall = report_dict[\"1\"][\"recall\"]\n",
        "f1 = report_dict[\"1\"][\"f1-score\"]\n",
        "\n",
        "# adding to the last table\n",
        "results.append({\n",
        "    \"Classifier\": \"MLP (Neural Network)\",\n",
        "    \"Accuracy\": accuracy,\n",
        "    \"Precision (PD)\": precision,\n",
        "    \"Recall (PD)\": recall,\n",
        "    \"F1-Score (PD)\": f1\n",
        "})\n",
        "\n",
        "results_df = pd.DataFrame(results)\n",
        "print(\"\\n=== Classifier Performance Summary ===\")\n",
        "print(results_df.to_string(index=False))\n"
      ],
      "metadata": {
        "colab": {
          "base_uri": "https://localhost:8080/"
        },
        "id": "ZWcrlwGnLOFK",
        "outputId": "284c1bab-c858-4e4a-c45f-c1183ee5e46f"
      },
      "execution_count": 13,
      "outputs": [
        {
          "output_type": "stream",
          "name": "stdout",
          "text": [
            "Number of iterations recorded in loss_curve_: 196\n",
            "\n",
            "=== Classifier Performance Summary ===\n",
            "          Classifier  Accuracy  Precision (PD)  Recall (PD)  F1-Score (PD)\n",
            "        SVM (Linear)      0.92        0.866667          1.0       0.928571\n",
            " Logistic Regression      0.92        0.866667          1.0       0.928571\n",
            " K-Nearest Neighbors      1.00        1.000000          1.0       1.000000\n",
            "       Decision Tree      1.00        1.000000          1.0       1.000000\n",
            "       Random Forest      1.00        1.000000          1.0       1.000000\n",
            "MLP (Neural Network)      1.00        1.000000          1.0       1.000000\n"
          ]
        }
      ]
    },
    {
      "cell_type": "code",
      "source": [
        "import matplotlib.pyplot as plt\n",
        "\n",
        "plt.plot(mlp.loss_curve_)\n",
        "plt.title(\"Training Loss Curve\")\n",
        "plt.xlabel(\"Iterations\")\n",
        "plt.ylabel(\"Loss\")\n",
        "plt.grid(True)\n",
        "plt.show()"
      ],
      "metadata": {
        "colab": {
          "base_uri": "https://localhost:8080/",
          "height": 472
        },
        "id": "7NOptDcNOa9B",
        "outputId": "cf09bfca-e49e-48ce-e9df-878ce5f2a37f"
      },
      "execution_count": null,
      "outputs": [
        {
          "output_type": "display_data",
          "data": {
            "text/plain": [
              "<Figure size 640x480 with 1 Axes>"
            ],
            "image/png": "[encoded data removed]"
          },
          "metadata": {}
        }
      ]
    }
  ]
}